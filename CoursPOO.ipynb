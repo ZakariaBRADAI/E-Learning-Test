{
 "cells": [
  {
   "cell_type": "markdown",
   "id": "b41bfeaa-7773-49d6-8ccb-c995f53944d1",
   "metadata": {},
   "source": [
    "# I- Écrivez des méthodes et des classes avec Python :"
   ]
  },
  {
   "cell_type": "markdown",
   "id": "5c8825c7-0c5f-43fe-9b00-0dd9ad17eda6",
   "metadata": {},
   "source": [
    "**Programmation procédurale** : (apprise de base) on définit des variables et des fonctions puis on les appelles.\n",
    "\n",
    "**Programmation orientée objet** : on considère toute chose en termes de relation entre objets."
   ]
  },
  {
   "cell_type": "code",
   "execution_count": 1,
   "id": "c48d78e8-298a-4c86-9fb5-dcc1cfb31e17",
   "metadata": {},
   "outputs": [
    {
     "name": "stdout",
     "output_type": "stream",
     "text": [
      "7\n",
      "10\n",
      "70\n"
     ]
    }
   ],
   "source": [
    "# Cours Très Facile\n",
    "# création de la classe Rectangle\n",
    "class Rectangle:\n",
    "    def __init__(self, longueur, largeur): \n",
    "        \"\"\"Fonction appelée le constructeur de la classe (permet de construire l'objet Rectangle)\"\"\"\n",
    "        self.width = longueur\n",
    "        self.height = largeur   # attributs d'instance\n",
    "    def calculate_area(self):\n",
    "        # méthode \n",
    "        return self.height * self.width\n",
    "\n",
    "\n",
    "# Création de l'objet Rectangle\n",
    "\n",
    "monRectangle = Rectangle(10, 7)\n",
    "print(monRectangle.height)\n",
    "print(monRectangle.width)\n",
    "print(monRectangle.calculate_area())\n",
    "#--------------------------------\n",
    "\n",
    "\n",
    "\n",
    "\n",
    "# création de la classe Rectangle\n",
    "class Rectangle_OpenClassrooms:\n",
    "    width = 3   # attributs de classe\n",
    "    height = 2\n",
    "    def calculate_are(self):\n",
    "        return self.height * self.width"
   ]
  },
  {
   "cell_type": "markdown",
   "id": "a474865f-cd6c-49cd-b57c-36bac36ab8cc",
   "metadata": {},
   "source": [
    "Par convention les noms des classes commencent par une lettre Majuscule, si le nom contient pusieurs mots on adopte la convention *CapitelizedCase* en mettant une majuscule à la première lettre de chaque mot.\n",
    "\n",
    "**attributs** : toutes les variables et méthodes qui composent une classe.\n",
    "\n",
    "### Déclarez des variabes dynamiques avec le constructeur `__init__(self, ...)` : \n",
    "\n",
    "- La méthode constructeur de classe est utilisée pour créer des objets à partir de cette classe (chaque classe en possède, de plus les méthodes spéciales modifient le comportement interne de la classe et commencent et se terminent par 2 underscores).\n",
    "\n",
    "- Les attributs définis dans la méthode constructeur ne seront pas partagés par les autres **instances**, ce sont des **attributs d'instance** (propres à chaque objet créé).\n",
    "\n",
    "- On peut créer des paramètres optionnels, mais il faut s'assurer qu'ils se trouvent après `self` et les paramètres principaux.\n",
    "\n",
    "- On accède aux attributs d'une instance via le `.`\n",
    "\n",
    "- Il faut faire attention aux **positions des paramètres du constructeur**.\n",
    "\n",
    "- On adopte par convention lors de l'instanciation de classe :\n",
    "\n",
    "`Objet = NomClasse(param1_value(=x), param2_value(=y), ..., param_optionnel1 = X, param_optionnel2 = Y, ...)`\n",
    "\n",
    "On donne directement ou implicitement les valeurs des paramètres obligatoires en faisant attention à leur ordre dans le constructeur, et on donne les valeurs des paramètres optionnels de manière implicite (par exemple dans l'exemple précédent `color = 'blue'`).\n",
    "\n",
    "- Lors de l'appel d'une méthode d'instance, Python passe l'instance en tant que premier argument `self` (écrire `rectangle.calculate_area()` revient à écrire `rectangle.calculate_area(rectangle)`).\n",
    "\n",
    "- On peut modifier les attributs d'une instance (elles se comportent comme des variables). **Néanmoins il est préférable de changer un état par le bias d'une méthode qu'en réassignant directement une nouvelle valeur, cela permet de documenter explicitement les actions reccommandées  par la classe.**"
   ]
  },
  {
   "cell_type": "code",
   "execution_count": 5,
   "id": "b3782429-b85f-438f-9094-e27a43bfb43d",
   "metadata": {},
   "outputs": [
    {
     "name": "stdout",
     "output_type": "stream",
     "text": [
      "10\n",
      "7\n",
      "70\n",
      "red \n",
      "\n",
      "7\n",
      "10\n",
      "70\n",
      "green \n",
      "\n"
     ]
    }
   ],
   "source": [
    "# Exemple\n",
    "\n",
    "class Rectangle2:\n",
    "    def __init__(self, longueur, largeur, couleur = 'red'):\n",
    "        self.height = longueur\n",
    "        self.width = largeur\n",
    "        self.color = couleur    \n",
    "        \n",
    "    # valeur par défaur de self.color est 'red' (on peut définir un rectangle sans donner sa couleur, elle sera 'red')\n",
    "\n",
    "\n",
    "    \n",
    "    def calculate_area(self):\n",
    "        return self.height * self.width\n",
    "    def calculate_perimeter(self):\n",
    "        return 2 * ( self.height + self.width )\n",
    "\n",
    "mon_Rectangle_2_rouge = Rectangle2(10, 7)\n",
    "print(mon_Rectangle_2_rouge.height)\n",
    "print(mon_Rectangle_2_rouge.width)\n",
    "print(mon_Rectangle_2_rouge.calculate_area())\n",
    "print(mon_Rectangle_2_rouge.color, '\\n')\n",
    "\n",
    "mon_Rectangle_2_vert = Rectangle2(largeur=10, longueur=7, couleur='green')   # On peut préciser les arguments\n",
    "print(mon_Rectangle_2_vert.height)\n",
    "print(mon_Rectangle_2_vert.width)\n",
    "print(mon_Rectangle_2_vert.calculate_area())\n",
    "print(mon_Rectangle_2_vert.color, '\\n')"
   ]
  },
  {
   "cell_type": "markdown",
   "id": "f0e2661f-fd87-476c-afec-003c3c88a5f7",
   "metadata": {},
   "source": [
    "Lors de l'appel d'une méthode d'instance, Python passe l'instance en tant que premier argument `self` (écrire `rectangle.calculate_area()` revient à écrire `rectangle.calculate_area(rectangle)`).\n",
    "\n",
    "\n",
    "---------------------------"
   ]
  },
  {
   "cell_type": "markdown",
   "id": "584e876e-7b78-46fc-9f03-bbbf6c87151e",
   "metadata": {},
   "source": [
    "${} \\; $\n",
    "\n",
    "On distingue les attributs :\n",
    "\n",
    "${} \\;$\n",
    "\n",
    "$\\quad \\quad \\quad \\quad \\bullet$ **d'instance** : qui sont propres aux instances crées et ne peuvent être accédées dans instanciation, ce sont des variables définies à l'aide de `self` ou des méthodes d'instances qui prennent le mot **self** en premier argument.\n",
    "\n",
    "${} \\;$\n",
    "\n",
    "$\\quad \\quad \\quad \\quad \\bullet$ **de classe** : qui sont propres à la classe et partagés entre les instances, ce sont des variables directement définies **dans le corps de la classe**. **Les attributs de classe peuvent se référencer entre eux, mais ne peuvent pas accéder aux attributs d'instance.** \n",
    "\n",
    "Dans le cadre des méthodes, elles sont précédées par un `@classmethod` et leur premier paramètre sera  `cls` à la place de `self`.\n",
    "\n",
    "Les attributs de classe sont souvent utilisés pour créer **des données ou des actions globales à la classe qui ne dépendent pas d'une instance**. Les instances peuvent y accéder directement. \n",
    "\n",
    "Attention, **Modifier un attribut de classe dans une instance le modifiera dans toutes les autres.**\n",
    "\n",
    "${}\\;$\n",
    "\n",
    "$\\quad \\quad \\quad \\quad \\bullet$ **statiques** : qui n'ont pratiquement aucun lien avec la classe, seules les méthodes peuvent être des attributs statiques. Leur apport par rapport aux attribits de classe est minime, ils sont précédés par un `@staticmethod`. \n",
    "\n",
    "${} \\;$\n",
    "${} \\;$\n",
    "\n",
    "Si chaque type d'attribut possède une utilité propre, il faut essayer autant que possible de priviliégier les attributs d'instance qui permettent d'utiliser la POO à son plein potentiel. Les attributs de classe peuvent être très utiles mais ils sont surtout plus rares. Enfin, les attributs statiques sont à l'opposé du paradigme orienté objet : il est conseillé d'éviter de les utiliser, quitte à utiliser un attribut de classe à la place.\n",
    "\n",
    "${} \\;$ \n",
    "\n",
    "Exemples des différents types d'attributs dans le code suivant :"
   ]
  },
  {
   "cell_type": "code",
   "execution_count": 15,
   "id": "4b7b9433-9898-4395-a074-f74df02da6a2",
   "metadata": {},
   "outputs": [
    {
     "name": "stdout",
     "output_type": "stream",
     "text": [
      "2\n",
      "Je vole !\n",
      "\n",
      "\n",
      "('mouette', 'pigeon', 'moineau', 'hirrondelle')\n",
      "{}\n",
      "On n'a rien trouvé...\n",
      "{1: 'mouette'}\n",
      "On a trouvé un mouette !\n",
      "{1: 'mouette'}\n",
      "mouette\n",
      "\n",
      "\n",
      "Animal (vertébré à sang chaud) au coprs recouvert de plumes, dont les membres antérieurs sont des ailes et qui a un bec.\n"
     ]
    }
   ],
   "source": [
    "# Attributs d'instances\n",
    "\n",
    "class Zawech:\n",
    "    def __init__(self):\n",
    "        \"\"\"Les attribts définis ici sont des attributs d'instance.\"\"\"\n",
    "        self.wings = 2\n",
    "\n",
    "    def fly(self):\n",
    "        \"\"\"Cette méthde est une méthode d'instance.\"\"\"\n",
    "        print(\"Je vole !\")\n",
    "\n",
    "zawech = Zawech()\n",
    "print(zawech.wings)\n",
    "zawech.fly()\n",
    "\n",
    "print('\\n')\n",
    "#-----------------------------------------------------------\n",
    "\n",
    "#Attibuts de classe\n",
    "\n",
    "class BirdClasse:\n",
    "\n",
    "    # attributs de classe\n",
    "    names = (\"mouette\", \"pigeon\", \"moineau\", \"hirrondelle\")\n",
    "    positions = {}\n",
    "\n",
    "    def __init__(self, name):\n",
    "        \"\"\"Les attributs définis ici sont des attributs d'instance.\"\"\"\n",
    "        self.position = 1\n",
    "        self.name = name\n",
    "\n",
    "        # On accède à l'attribut de classe \"positions\" avec self (c'est possible)\n",
    "        self.positions[self.position] = self.name\n",
    "\n",
    "    @classmethod\n",
    "    def find_bird(cls, position):\n",
    "        \"\"\"Retrouve un oiseau selon une position donnée.\"\"\"\n",
    "        if position in cls.positions:\n",
    "            return f\"On a trouvé un {cls.positions[position]} !\"\n",
    "        else:\n",
    "            return \"On n'a rien trouvé...\"\n",
    "\n",
    "\n",
    "# On peut accéder aux variables de classe sans instanciation.\n",
    "print(BirdClasse.names)\n",
    "print(BirdClasse.positions)\n",
    "print(BirdClasse.find_bird(5))\n",
    "# On instancie un oiseau\n",
    "bird_test = BirdClasse(\"mouette\")\n",
    "print(BirdClasse.positions)\n",
    "# On le retrouve avec la méthode de classe find_bird.\n",
    "print(BirdClasse.find_bird(1))\n",
    "print(BirdClasse.positions)\n",
    "print(BirdClasse.positions[1])\n",
    "\n",
    "print('\\n')\n",
    "#-----------------------------------------------------------\n",
    "\n",
    "# Attributs statiques\n",
    "\n",
    "class Static_Bird:\n",
    "\n",
    "    @staticmethod\n",
    "    def get_definition():\n",
    "        \"\"\"Donne la définiton d'un oiseau.\"\"\"\n",
    "        return (\n",
    "        \"Animal (vertébré à sang chaud) au coprs recouvert de plumes, \"\n",
    "        \"dont les membres antérieurs sont des ailes et qui a un bec.\"\n",
    "        )\n",
    "\n",
    "print(Static_Bird.get_definition())\n"
   ]
  },
  {
   "cell_type": "code",
   "execution_count": null,
   "id": "540b5bf9-87ec-4d2c-a5d9-73c5fcab7357",
   "metadata": {},
   "outputs": [],
   "source": [
    "# Exercice OpenClassrooms\n",
    "\n",
    "class Boite_A_Outils:\n",
    "    \n",
    "    def __init__(self, outils):\n",
    "        self.tools = []\n",
    "\n",
    "    def Add_tool(self, tool):\n",
    "        self.tools.append(tool)\n",
    "\n",
    "    def remove_tool(tool):\n",
    "        self.tool.remove(tool)\n",
    "\n",
    "class Tournevis:\n",
    "\n",
    "    def __init__(self, size):\n",
    "        self.size = size\n",
    "\n",
    "    def tighten(screw):\n",
    "        print(\"Vis serré : \", screw)\n",
    "\n",
    "    def loosen(screw):\n",
    "        print(\"Vis déserré : \", swrew)\n",
    "\n",
    "class Marteau:\n",
    "\n",
    "    def __init__(self, color):\n",
    "        self.color = color\n",
    "\n",
    "    def paint(self, new_color):\n",
    "        self.color = new_color\n",
    "        print('Marteau peint en' + new_color)\n",
    "\n",
    "    def hammer_in(nail):\n",
    "        print('Clou planté', nail)\n",
    "\n",
    "    def remove(nail):\n",
    "        print('Clou retiré : ', nail)"
   ]
  },
  {
   "cell_type": "markdown",
   "id": "55c9bfcf-47ae-4fb0-a598-abc036faa72c",
   "metadata": {},
   "source": [
    "$\\;$"
   ]
  },
  {
   "cell_type": "markdown",
   "id": "286eae80-8cd9-41c8-b469-a64bcf80336b",
   "metadata": {
    "id": "hAKVEk0Bd4zE"
   },
   "source": [
    "# Partie 2 : Utilisez le comportement hérité dans un programme Python"
   ]
  },
  {
   "cell_type": "code",
   "execution_count": null,
   "id": "479672fa-f865-4e91-b0bf-50bd72c8e48f",
   "metadata": {
    "id": "Ni9F3g5vdnbz"
   },
   "outputs": [],
   "source": [
    "import numpy as np\n",
    "import pandas as pd\n",
    "import matplotlib.pyplot as plt"
   ]
  },
  {
   "cell_type": "markdown",
   "id": "915f4ebd-4035-47c5-ae91-4d2887fc683b",
   "metadata": {
    "id": "8lnC2AorgbkE"
   },
   "source": [
    "**Héritage :** copier les attributs de la classe parente (superclasse) à la classe enfant (sous-classe). La fonctionnalité de la classe enfant va ensuite être modifiée soit en ajoutant de nouvelles méthodes et variables, soit en modifiant ou en surchargeant le comportement de la classe parente.\n",
    "\n",
    "L'héritage se fait via la syntaxe dans la signature suivante:\n",
    "\n",
    "`class Enfant(Parent):`\n",
    "\n",
    "Héritage : possibilité de substitution (**relation de type `is a` / *est un***). On peut remplacer dans notre code un objet de la classe parent par un objet de la classe enfant. On peut substituer un objet de la classe enfant à un objet de la classe parent.\n",
    "\n",
    "Pourquoi utiliser l'héritage ?\n",
    "*   Réutilisabilité\n",
    "*   Extensibilité : possibilité d'étendre la fonctionnalité d'un programme sans avoir à modifier le code existant (cf exemple cours).\n",
    "*   Modèles conceptuels : exprimer des relations entre différentes parties de notre code.    \n",
    "\n",
    "${} \\;$\n",
    "\n",
    "Implémentons une sous-classe dans l'exemple suivant :\n"
   ]
  },
  {
   "cell_type": "code",
   "execution_count": null,
   "id": "18d4ae5d-b1ba-49c2-8fd5-3cad186661d7",
   "metadata": {
    "colab": {
     "base_uri": "https://localhost:8080/"
    },
    "id": "bEM4J8nEhbGq",
    "outputId": "f964ec93-c043-4218-d5bc-5002873e1a89"
   },
   "outputs": [
    {
     "name": "stdout",
     "output_type": "stream",
     "text": [
      "La bataille d'Alger\n",
      "Bon visionnage !\n",
      "Z\n",
      "True\n",
      "Bon visionnage !\n",
      "C'est long à rembobiner !\n"
     ]
    }
   ],
   "source": [
    "class Film:\n",
    "  def __init__(self, name):\n",
    "    self.name = name\n",
    "  def watch(self):\n",
    "    print(\"Bon visionnage !\")\n",
    "\n",
    "\n",
    "class FilmCassette(Film):   # On crée une sous-classe en créant une nouvelle classe avec (classe parent ) en, signature\n",
    "  # La classe enfant hérite de tous les attributs de la classe parent même vide !\n",
    "  # Mais l'interêt des sous-classes est d'ajouter des attributs\n",
    "  def __init__(self, name):\n",
    "    self.name = name\n",
    "    self.magnetic_tape = True\n",
    "  def rewind(self):\n",
    "    \"\"\"Rembobine le film.\"\"\"\n",
    "    print(\"C'est long à rembobiner !\")\n",
    "    self.magnetic_tape = True\n",
    "\n",
    "film = Film(\"La bataille d'Alger\")\n",
    "film_cassette = FilmCassette(\"Z\")\n",
    "\n",
    "print(film.name)\n",
    "film.watch()\n",
    "print(film_cassette.name)\n",
    "print(film_cassette.magnetic_tape)\n",
    "film_cassette.watch() # Elle hérite de la méthode watch\n",
    "film_cassette.rewind()"
   ]
  },
  {
   "cell_type": "markdown",
   "id": "86167859-2337-433f-b08b-b8d05e7e474f",
   "metadata": {
    "id": "THUUSY_Hm0Mj"
   },
   "source": [
    "**Remarque :** Lorsque l'on déclare une classe (donc sans spécifier de classe parent), Python crée une sous classe d'`Object`. `Object` constitue la base de toutes les classes, toutes les classes sont des sous-classe d'`Object`. (Toutes les classes possèdent un contructeur sans argument par défaut car elles héritent d'`Object`).\n",
    "\n",
    "\n",
    "De plus lorsqu'on crée une sous-classe vide ou lorsqu'on ne sait pas comment implémentez une méthode on utilise `pass` (cf cours/exos).\n",
    "\n",
    "**Remarque - Héritage multiple :** une sous classe peut hériter des plusieures classe parents simultanément, la syntax de la signature est alors :\n",
    "\n",
    "`class SousClasse(Parent1, Parent2, ...):`"
   ]
  },
  {
   "cell_type": "markdown",
   "id": "2b9846b6-2ee9-421f-9f6a-d0c7693f75ca",
   "metadata": {
    "id": "jRZj5FKPofyG"
   },
   "source": [
    "${} \\;$\n",
    "\n",
    "**Surcharge :** l'action de modifier les méthodes des classes parentes. La classe enfant **crée une nouvelle implémentation d'une méthode héritée.**\n",
    "\n",
    "La syntax pour surcharger une méthode est la même que pour en déclarer une (mot clé `def` suivi du **même nom**).\n",
    "\n",
    "Pour éviter les mauvaises surprises, il est essentiel de **garder les mêmes signatures (même nom + mêmes paramètres)**. En effet, lorqu'une méthode dans une classe enfnat.est crée avec le même nom et la même signature qu'une méthode de la classe parent, **la méthode enfant l'emporte.**"
   ]
  },
  {
   "cell_type": "code",
   "execution_count": null,
   "id": "e443d71b-ed67-42b6-b62a-923c927986a7",
   "metadata": {
    "colab": {
     "base_uri": "https://localhost:8080/"
    },
    "id": "UmaerTkjqq0V",
    "outputId": "549ca723-9f22-4bd0-c461-f72b4ad632e6"
   },
   "outputs": [
    {
     "name": "stdout",
     "output_type": "stream",
     "text": [
      "0\n",
      "100\n"
     ]
    }
   ],
   "source": [
    "from abc import ABC\n",
    "# permet de définir des classes abstraites\n",
    "\n",
    "class Shape(ABC):\n",
    "  def area(self):\n",
    "    return 0\n",
    "\n",
    "class Square(Shape):\n",
    "  def __init__(self, length):\n",
    "    self.length = length\n",
    "  def area(self):\n",
    "    return self.length **2\n",
    "\n",
    "shape_test = Shape()\n",
    "print(shape_test.area())\n",
    "square_test = Square(10)\n",
    "print(square_test.area())"
   ]
  },
  {
   "cell_type": "markdown",
   "id": "09f8ad5e-ece7-4d69-82a5-3760c6d1fc06",
   "metadata": {
    "id": "O9p25HT2xXZ4"
   },
   "source": [
    "**Classes abstrtaites :** (ABC pour *Abstract Base Class* ou *classe de base abstraite*), une classe abstraite est une classe **qui ne peut pas être instanciée, la seule façon de l'utiliser est d'en créer une sous-classe.**\n",
    "\n",
    "L'intérêt est de créer une classe parent commune à plusieurs classes (par exemple `Shape` pour `Square`, `Circle`, `Triangle` ...) **sans laisser personne l'instancier et/ou la modifier.**"
   ]
  },
  {
   "cell_type": "markdown",
   "id": "7e515677-3e79-4ff1-a761-f4ee7c6d49d0",
   "metadata": {
    "id": "f5TPWh_KytBC"
   },
   "source": [
    "${} \\;$\n",
    "\n",
    "`super().ParentMethod(args)` appelle et exécute la méthode de la classe parente `ParentMethod`. Il faut encore une foius faire attention à la signature si on appelle une méthode Parent dans se version Enfant surchargée (sauf pour le constructeur `__init__`).#"
   ]
  },
  {
   "cell_type": "code",
   "execution_count": null,
   "id": "352af4fd-7bb1-4af0-acf9-438473eb9f10",
   "metadata": {
    "colab": {
     "base_uri": "https://localhost:8080/"
    },
    "id": "sIsGphxnzneX",
    "outputId": "22c4a21e-1bba-472c-b45f-23c2726ca623"
   },
   "outputs": [
    {
     "name": "stdout",
     "output_type": "stream",
     "text": [
      "Merde, j'ai renverser mon verre\n",
      "J'ai renversé un café allongé à 30 °C\n"
     ]
    }
   ],
   "source": [
    "# Tama3an exemple chbab\n",
    "\n",
    "class Drink:\n",
    "  def __init__(self, price):\n",
    "    self.price = price\n",
    "  def drink(self):\n",
    "    print(\"Je bois\")\n",
    "  def renverser(self, temperature):\n",
    "    print(\"Merde, j'ai renverser mon verre\")\n",
    "# L'argument température ne sert à rien, on l'a rajouter\n",
    "# pour avoir la mêmes signaturea que la méthode surchargée enfant\n",
    "\n",
    "\n",
    "class Coffee(Drink):\n",
    "\n",
    "  prices = {\"simple\":1, \"serré\":1, \"allongé\":1.5}\n",
    "\n",
    "  def __init__(self, type):\n",
    "    self.type = type\n",
    "    super().__init__(price=self.prices.get(type, 1))\n",
    "\n",
    "  def drink(self):\n",
    "    print(\"Un bon café pour me réveiller !\")\n",
    "\n",
    "  def renverser(self, temperature):\n",
    "    super().renverser(temperature)\n",
    "    print(f\"J'ai renversé un café {self.type} à {temperature} °C\")\n",
    "\n",
    "\n",
    "Qahwa = Coffee(\"allongé\")\n",
    "Qahwa.renverser(30)"
   ]
  },
  {
   "cell_type": "markdown",
   "id": "a5466aab-2930-47bf-8f51-717e91133fad",
   "metadata": {
    "id": "TciH-Psp2aAp"
   },
   "source": [
    "${} \\;$\n",
    "\n",
    "**Hiérarchie d'héritage :** Une classe parent peut elle même être une sous-classe d'une autre classe est ainsi de suite (par exemple une Film cassette VHS est une Film cassette qui est lui même un Film). On utilise les diagrammes d'hériutage sans y faire figuer la classe `Object`.\n",
    "\n",
    "$ {} \\;$\n",
    "\n",
    "**Héritage multiple :** qui possède une mauvaise réputation, lorsque deux classes parents implémentent la même méthode (**problème du Diamant / Deadly Diamond of Death**), chaque langage de programmation gère ce problème à sa propre manière. Python utilise le **MRO (Method Resolution Order : l'odre de résolution de méthode)**, la classe parent la plus à gauche l'emportera en premier.\n",
    "\n",
    "$ {} \\;$"
   ]
  },
  {
   "cell_type": "markdown",
   "id": "06a04f87-0a38-4e93-b637-2a0f3d78e758",
   "metadata": {
    "id": "eMfwzUq24wZW"
   },
   "source": [
    "**Collection d'objets :** liste ou dictionnaires d'objets (en faisant attention à ne pas mélanger les types).\n",
    "\n",
    "**Objet mutable/immutable :**  sa valeur ne peut pas/peut être modifiée après sa création.\n",
    "\n",
    "**Duck typing :** (typage de Canards, utilisé par Python). Génération d'exceptions. Python s'intéresse à ce qu'un objet peut faire et non pas à son type.\n",
    "\n",
    "$\\; {}$\n",
    "\n",
    "La documentation des classes est vivement conséillée (docstring).\n",
    "\n",
    "$\\; {}$\n",
    "\n",
    "**Typage du code :** Python 3 fournit une bibliothèque `typing` de types qui permet d'écrire du code avec des annotations de type, de façon similaire à d'autres langages."
   ]
  },
  {
   "cell_type": "code",
   "execution_count": null,
   "id": "6d958f8f-f400-411f-899a-26a0606dc402",
   "metadata": {
    "colab": {
     "base_uri": "https://localhost:8080/"
    },
    "id": "BRJpbnKqbB5X",
    "outputId": "2731975d-5825-4f77-eeba-398114c3bae0"
   },
   "outputs": [
    {
     "name": "stdout",
     "output_type": "stream",
     "text": [
      "34\n"
     ]
    }
   ],
   "source": [
    "from typing import List\n",
    "\n",
    "def highest(numbers: List[int]) -> int:\n",
    "  max_value = 0\n",
    "  for number in numbers:\n",
    "    if number > max_value:\n",
    "      max_value = number\n",
    "  return max_value\n",
    "\n",
    "l = [0,3, 12, 6.6, np.pi**2, -22, 34, 0.001, 1e1, 7]\n",
    "\n",
    "print(highest(l))"
   ]
  },
  {
   "cell_type": "markdown",
   "id": "4992c23b-0434-40b3-bdb4-11c1ff7a4eea",
   "metadata": {
    "id": "nElO3aDfb9DP"
   },
   "source": [
    "$\\; {}$\n",
    "\n",
    "**Adoptez la programmation défensive :** c'est à dire se prémunir contre la possibilité d'erreurs ou de fautes.\n",
    "\n",
    "Nous pouvons utiliser des blocs conditionnels `if`, ou le mot clé `assert` qui génère une exceptionsi le condition qui le suit n'est pas vérifiée, il est néanmois déconseillé d'utiliser `assert` dans des codes de production."
   ]
  },
  {
   "cell_type": "code",
   "execution_count": null,
   "id": "59840a82-7fa7-409c-9be9-38ab3932e6a5",
   "metadata": {
    "colab": {
     "base_uri": "https://localhost:8080/",
     "height": 387
    },
    "id": "LJRov-MkdT2J",
    "outputId": "d3aebdf8-d23c-4df6-ed17-3fc2126c02a3"
   },
   "outputs": [
    {
     "name": "stdout",
     "output_type": "stream",
     "text": [
      "1.5\n"
     ]
    },
    {
     "ename": "AssertionError",
     "evalue": "ignored",
     "output_type": "error",
     "traceback": [
      "\u001b[0;31m---------------------------------------------------------------------------\u001b[0m",
      "\u001b[0;31mAssertionError\u001b[0m                            Traceback (most recent call last)",
      "\u001b[0;32m<ipython-input-5-3fa01a9df009>\u001b[0m in \u001b[0;36m<cell line: 12>\u001b[0;34m()\u001b[0m\n\u001b[1;32m     10\u001b[0m \u001b[0;34m\u001b[0m\u001b[0m\n\u001b[1;32m     11\u001b[0m \u001b[0mprint\u001b[0m\u001b[0;34m(\u001b[0m\u001b[0mdivide\u001b[0m\u001b[0;34m(\u001b[0m\u001b[0;36m3\u001b[0m\u001b[0;34m,\u001b[0m\u001b[0;36m2\u001b[0m\u001b[0;34m)\u001b[0m\u001b[0;34m)\u001b[0m\u001b[0;34m\u001b[0m\u001b[0;34m\u001b[0m\u001b[0m\n\u001b[0;32m---> 12\u001b[0;31m \u001b[0mprint\u001b[0m\u001b[0;34m(\u001b[0m\u001b[0mdivide\u001b[0m\u001b[0;34m(\u001b[0m\u001b[0;36m1\u001b[0m\u001b[0;34m,\u001b[0m\u001b[0;36m0\u001b[0m\u001b[0;34m)\u001b[0m\u001b[0;34m)\u001b[0m\u001b[0;34m\u001b[0m\u001b[0;34m\u001b[0m\u001b[0m\n\u001b[0m",
      "\u001b[0;32m<ipython-input-5-3fa01a9df009>\u001b[0m in \u001b[0;36mdivide\u001b[0;34m(a, b)\u001b[0m\n\u001b[1;32m      6\u001b[0m \u001b[0;34m\u001b[0m\u001b[0m\n\u001b[1;32m      7\u001b[0m \u001b[0;32mdef\u001b[0m \u001b[0mdivide\u001b[0m\u001b[0;34m(\u001b[0m\u001b[0ma\u001b[0m\u001b[0;34m,\u001b[0m\u001b[0mb\u001b[0m\u001b[0;34m)\u001b[0m\u001b[0;34m:\u001b[0m\u001b[0;34m\u001b[0m\u001b[0;34m\u001b[0m\u001b[0m\n\u001b[0;32m----> 8\u001b[0;31m   \u001b[0;32massert\u001b[0m \u001b[0mb\u001b[0m \u001b[0;34m!=\u001b[0m \u001b[0;36m0\u001b[0m\u001b[0;34m\u001b[0m\u001b[0;34m\u001b[0m\u001b[0m\n\u001b[0m\u001b[1;32m      9\u001b[0m   \u001b[0;32mreturn\u001b[0m \u001b[0ma\u001b[0m\u001b[0;34m/\u001b[0m\u001b[0mb\u001b[0m\u001b[0;34m\u001b[0m\u001b[0;34m\u001b[0m\u001b[0m\n\u001b[1;32m     10\u001b[0m \u001b[0;34m\u001b[0m\u001b[0m\n",
      "\u001b[0;31mAssertionError\u001b[0m: "
     ]
    }
   ],
   "source": [
    "def divide(a,b):\n",
    "  if b!=0:\n",
    "    return a/b\n",
    "  else:\n",
    "    print(\"Faux\")\n",
    "\n",
    "def divide(a,b):\n",
    "  assert b != 0\n",
    "  return a/b\n",
    "\n",
    "print(divide(3,2))\n",
    "print(divide(1,0))"
   ]
  },
  {
   "cell_type": "markdown",
   "id": "751348f9-9f15-4274-8a8c-82b5c47ed98f",
   "metadata": {
    "id": "hUxaN4bedvrA"
   },
   "source": [
    "$\\; {}$\n",
    "\n",
    "Pour vérifier que les objets appartiennent à un type on utilise le mot clé `isinstance`, et pour vérifier qu'ils ont un attribut spécifique on utilise le mot clé `hasattr` comme le montre l'exemple suivant :\n",
    "\n",
    "`if hasattr(human, \"walk\"):`\n",
    "\n",
    "` human.walk()`"
   ]
  },
  {
   "cell_type": "markdown",
   "id": "9596ef19-70c2-463b-847f-f8ef1f79a06e",
   "metadata": {
    "id": "SyI5RY2aeuSp"
   },
   "source": [
    "Enfin, il y a l'aspect gestion d'exceptions. Et il y a le risque d'être excessivement défensif, parfois dans certaines application, laisser le programme planter face à certaines erreurs peut être une option (bien qu'il faut l'éviter dans des application plus grosses et/ou importantes)."
   ]
  },
  {
   "cell_type": "markdown",
   "id": "f889d3f1-6420-4f3b-86bb-8acab3b025b3",
   "metadata": {
    "id": "b4v0JaJUeK84"
   },
   "source": [
    "# Partie 3 : Structurez votre code dans un programme Python"
   ]
  },
  {
   "cell_type": "markdown",
   "id": "a66cabbb-0451-42c9-ad5a-84b13d589007",
   "metadata": {
    "id": "vtzVaHSFhlvI"
   },
   "source": [
    "#### Utilisez les modules et les classes pour découper votre code\n",
    "\n",
    "$\\;$\n",
    "\n",
    "Lorque l'on travaille sur un projet complexe, il devient vitale de structurer son code dans plusieurs fichier Python.\n",
    "\n",
    "$\\;$\n",
    "\n",
    "Un fichier Python avec toutes ses classes, fonctions et code est appelé **module** qui peut être importé (ce qui rend disponible des classes et fonctions qu'il contient dans le code qui l'a importé). Un **package** est un dossier contenant un ou plusieurs modules (répartis en groupes logiques) et qui permet son importation en totalité.\n",
    "\n",
    "$\\;$\n",
    "\n",
    "Principes de structuration d\"un code Python :\n",
    "\n",
    "*   Découvrabilité : compréhension du code et la facilité/difficulté de comprendre ce que fait et ou se situe chaque partie/fonctionnalité.\n",
    "*   Simplicité : les fonctions et méthodes qui ne font qu'une seule chose sont plus faciles à comprendre et à tester.\n",
    "*   Style : style cohérent, se référer à un guide de style (projet professionnel ou open source).\n",
    "\n",
    "$\\;$\n",
    "\n",
    "**Structuration du code :**\n",
    "\n",
    "Les outils les plus utiles pour structurer du code sont simplement les fichier et les dossiers. Le découpage de nos programmes en fichiers et dossiers bien nommés aide à la découvrabilité.\n",
    "\n",
    "De façon générale, il convient de placer **chaque classe dans un fichier distinct**, et de donner un nom similaire ou logique entre le module et la classe qu'il contient. On peut ,plus rarement, placer un groupe de classes liées logiquement dans le même fichier, avec un nom approprié.\n",
    "\n",
    "Il est également important de nommer façon logique les classes, fonctions/méthodes et variables (les noms doivent montrer ce que font les classes et qu'elles sont liées entre elles).\n",
    "\n",
    "$\\;$\n",
    "\n",
    "**Modules et packages :**\n",
    "\n",
    "Un **module** est simplement le code exécutable et les définitons de classes/fonctions contenues dans un fiohcier Python unique, alors qu'un **package** est une **collection de modules** regroupés logiquement dans un répertoire et partageant un **fichier de configuration (`__init__.py`)**.\n",
    "\n",
    "Cet `__init__.py` peut contenir n'import quel code d'initialisation, et contient parfois une définition `__all__`, qui définit tous les modules du package, comme ceci :\n",
    "\n",
    "`__all__ = [\"contact\", \"textcontact\", \"owlcontact\"]`\n",
    "\n",
    "$\\;$\n",
    "\n",
    "**Remarque :** Lorqu'on import un module, on exécute en réalité tout le code qu'il contient.\n",
    "\n",
    "$\\;$\n",
    "\n",
    "Voici un schéma courant dans les programmes Python :\n",
    "\n",
    "`if __name__==\"__main__\"`\n",
    "\n",
    "` do_something()`\n",
    "\n",
    "` print(\"Hello World)`\n",
    "\n",
    "`__name__` est une variable automatiquement assignée à chaque moodule. Par défaut, elle contient le nom du module.\n",
    "\n",
    "Le **fichier principal** de notre code (celui que l'on utilise pour lancer le programme) **verra automatiquement son nom changé en `__main__` !**\n",
    "\n",
    "\n",
    "$\\;$\n",
    "\n",
    "Ainsi, le bloc précédent ne s'exécutera que si et seulement si le *fichier courant est le point d'entrée de l'application.* **Le code ne s'exécutera pas si ce fichier a été importé depuis un autre module**.\n",
    "\n",
    "Il est particulièrement important à noter que l'on a très peu de contrôle sur l'ordre du code dans les différents packages importés. ne vous reposez dessus que pour l'import des packages et la configuration, et rien d'autre !"
   ]
  },
  {
   "cell_type": "markdown",
   "id": "3cd1c03e-fe1d-45da-bba4-54be19fef1d5",
   "metadata": {
    "id": "2Iea6jvIh5aY"
   },
   "source": [
    "Cf *Décomposer un problème de programmation orientée objet*, il existe également des relations de **composition** (de type `has a`/*a un*), par exemple une voiture *a un* volant. L'utilité est d'imbriquer les objets entre eux pour éviter d'avir un seul gros objet qui freait trop de choses différentes.\n",
    "\n",
    "**Interface :** dans quelle mesure le code va intéragir avec d'autres systèmes et d'autres parties du code.\n",
    "\n",
    "$\\;$"
   ]
  },
  {
   "cell_type": "markdown",
   "id": "3613650d-9c63-4db4-a604-908254eb0728",
   "metadata": {
    "id": "8zTSgvz31VTT"
   },
   "source": [
    "#### Gérez les exceptions :\n",
    "\n",
    "On peut gérer les exceptions avec une instruction **try-catch** (`try`-`except`) comme le montre l'exemple suivant :\n",
    "\n",
    "`try:`\n",
    "\n",
    "`except Exception as e`\n",
    "\n",
    "` print(\"Oops, unexpected error ,occured!\")`\n",
    "\n",
    "` raise e`\n",
    "\n",
    "\n",
    "Le mot clé `raise` permet de lancer une exception personalisée via la syntax suivante :\n",
    "\n",
    "`raise Exception(message)`"
   ]
  },
  {
   "cell_type": "code",
   "execution_count": null,
   "id": "615d7a62-f676-4e24-9669-a5c792d661b8",
   "metadata": {
    "id": "c32eJJiU2i6V"
   },
   "outputs": [],
   "source": [
    "a = 1\n",
    "b = 0\n",
    "\n",
    "try:\n",
    "  c = a/b\n",
    "  print(c)\n",
    "except:\n",
    "  print(\"0\")\n",
    "  message = \"La la laaa\"\n",
    "  raise Exception(message)"
   ]
  },
  {
   "cell_type": "code",
   "execution_count": null,
   "id": "4a56fdf8-1344-42b5-a5a4-9fe844cf95f9",
   "metadata": {
    "id": "82hsG9Dg4Qn5"
   },
   "outputs": [],
   "source": [
    "def increase_percent(initial_value, after_value):\n",
    "  try:\n",
    "    return (after_value/initial_value) * 100\n",
    "  except ZeroDivisionError:\n",
    "    return 0\n",
    "  except Exception as error:\n",
    "    print(\"Oops, an unexpected error occured!\")\n",
    "    raise error"
   ]
  },
  {
   "cell_type": "markdown",
   "id": "d56764e5-ae98-4682-b331-5cf6e7b79dc3",
   "metadata": {
    "id": "D7b18MdO_ft4"
   },
   "source": [
    "$\\;$\n",
    "\n",
    "Le bloc `try` n'est pas exécuté à l'instant ou il rencontre une exception. On peut également Définit plusieurs blocs `except ExceptionQuelconque` **comme le montre l'exemple en fin de page**"
   ]
  },
  {
   "cell_type": "markdown",
   "id": "562a5680-08dd-448b-bcdb-11797047a1ed",
   "metadata": {
    "id": "xA1LwSD43Xol"
   },
   "source": [
    "Toutes les exceptions Python sont des objets, la classe de base des excpetions est `Exception`.\n",
    "\n",
    "$\\;$\n",
    "\n",
    "Lorqu'une expection est levée, elle se propage dans le programme. Python ne fait plus les choses dans l'ordre, il lance continuellement l'exception en **remontant la pile** - c'est-à-dire la pile de fontions/méthodes qui ont appelé d'autres fonctions/méthodes. L'exception va continuer à remonter jusqu'à ce qu'elle soit gérée ou qu'elle n'ait plus nulle part où aller. C'est dans ce dernier cas que le programme plante.\n",
    "\n",
    "Soulever `Exception`  comme erreur par défaut est une mauvaise poratique (comme il a été fait dans l'exemple précédent), Il faut soulever des erreurs plus ciblées pour ne pas mettre sous silence des erreurs qui pourraient générer des résultats inattendus dans le code.\n",
    "\n",
    "\n",
    "$\\;$\n",
    "\n",
    "\n",
    "$\\;$\n",
    "\n",
    "\n",
    "Nous pouvons également créer des exceptions personalisées en créant une sous-classe d'`Exception`.\n",
    "\n",
    "`class InvalidAddressException(Exception):`\n",
    "\n",
    "` pass`\n",
    "\n",
    "`class OwnContactSystem(ContactSystem):`\n",
    "\n",
    "` def __init__(self, address):`\n",
    "\n",
    "`   if (not validate_address(address)):`\n",
    "\n",
    "`     raise InvalidAddressException(f\"Adresse Invalide: {address}\")`\n",
    "\n",
    "`   self.address = address`\n",
    "\n",
    "$\\; $\n",
    "\n",
    "Dans cet exemple la classe créée est vide, nous pouvons la surchager en ajoutant un **message par défaut** ce qui est souvent plus pratique :"
   ]
  },
  {
   "cell_type": "code",
   "execution_count": null,
   "id": "cadd70a4-0484-4688-8b6e-6224c7a6b436",
   "metadata": {
    "id": "8Haqmf6i2uNH"
   },
   "outputs": [],
   "source": [
    "class InvalidAddressException(Exception):\n",
    "  \"\"\"Gère les exceptions liées aux mauvaises adresses.\"\"\"\n",
    "\n",
    "  def __init__(self, address, base_message=\"Adresse invalide!\", *args, **kwargs):\n",
    "    \"\"\"Initialise le message\"\"\"\n",
    "\n",
    "    \"\"\"\n",
    "    L'utilisation de *args et **kwargs permet de prendre\n",
    "    un nombre de paramètres dynamiques.\n",
    "    \"\"\"\n",
    "\n",
    "    msg = f\"{base_message} Adresse: {address}\"\n",
    "\n",
    "    super().__init__(msg, *args, **kwargs)\n",
    "\n"
   ]
  },
  {
   "cell_type": "code",
   "execution_count": null,
   "id": "67c6d93c-ecd4-4e41-a740-ca4ccd485123",
   "metadata": {
    "colab": {
     "base_uri": "https://localhost:8080/",
     "height": 171
    },
    "id": "SfPJW8ab-VOL",
    "outputId": "8ed11989-03e2-4ce6-9ade-57f9c60295ab"
   },
   "outputs": [
    {
     "ename": "InvalidAddressException",
     "evalue": "ignored",
     "output_type": "error",
     "traceback": [
      "\u001b[0;31m---------------------------------------------------------------------------\u001b[0m",
      "\u001b[0;31mInvalidAddressException\u001b[0m                   Traceback (most recent call last)",
      "\u001b[0;32m<ipython-input-20-27169075409c>\u001b[0m in \u001b[0;36m<cell line: 1>\u001b[0;34m()\u001b[0m\n\u001b[0;32m----> 1\u001b[0;31m \u001b[0;32mraise\u001b[0m \u001b[0mInvalidAddressException\u001b[0m\u001b[0;34m(\u001b[0m\u001b[0;34m\"35 rue d'Oran\"\u001b[0m\u001b[0;34m)\u001b[0m\u001b[0;34m\u001b[0m\u001b[0;34m\u001b[0m\u001b[0m\n\u001b[0m",
      "\u001b[0;31mInvalidAddressException\u001b[0m: Adresse invalide! Adresse: 35 rue d'Oran"
     ]
    }
   ],
   "source": [
    "raise InvalidAddressException(\"35 rue d'Oran\")"
   ]
  },
  {
   "cell_type": "markdown",
   "id": "ee98d8ce-9ed7-4d1d-b7b3-af74386c3a38",
   "metadata": {
    "id": "P_DwCncQ9RvT"
   },
   "source": [
    "Enfin dans les grosses applications, les exceptions n'héritent pas habituellement directement d'`Exception`."
   ]
  },
  {
   "cell_type": "code",
   "execution_count": null,
   "id": "af0c9a8f-3d1d-4c6a-b08b-ba5a150c6cd9",
   "metadata": {
    "id": "xMwPl7o88lxU"
   },
   "outputs": [],
   "source": [
    "class MyAppException(Exception):\n",
    "  pass\n",
    "\n",
    "class MyAppInvalidAddressException(MyAppException):\n",
    "  pass"
   ]
  },
  {
   "cell_type": "markdown",
   "id": "be8333ac-dd37-4714-b6e2-d23884520344",
   "metadata": {
    "id": "GIxFTeCT90Fi"
   },
   "source": [
    "$\\;$\n",
    "\n",
    "**Remarque :** dans l'exemple suivant, le bloc `else` ne s'exécute que si le bloc `try` s'est exéctué sans planter.\n",
    "\n",
    "Enfin, une erreur explicite est une erreur qui se corrige vite."
   ]
  },
  {
   "cell_type": "code",
   "execution_count": null,
   "id": "ce759d2e-e57f-46fd-b8ef-53342411d57d",
   "metadata": {
    "colab": {
     "base_uri": "https://localhost:8080/"
    },
    "id": "69XtTlH8-OsS",
    "outputId": "e4674f01-03f2-41dd-dd16-464e131f1bbe"
   },
   "outputs": [
    {
     "name": "stdout",
     "output_type": "stream",
     "text": [
      "Yep\n"
     ]
    }
   ],
   "source": [
    "try:\n",
    "  raise InvalidAddressException('test')\n",
    "except ZeroDivisionError:\n",
    "  print(\"O\")\n",
    "except IndexError:\n",
    "  print(\"Index\")\n",
    "except:\n",
    "  print(\"Yep\")"
   ]
  },
  {
   "cell_type": "markdown",
   "id": "81be85cc-80a2-434c-8119-e6e779a9fdc7",
   "metadata": {
    "id": "TrmsPPc_AOTl"
   },
   "source": [
    "`except` suivi de rien est exécuter losrque les autres bloc `except` n'ont pas été exécutés.\n",
    "\n",
    "VOIR EXEMPLE QUIZ QUESTION 5."
   ]
  },
  {
   "cell_type": "markdown",
   "id": "f2d9e0dd-421a-4f49-8d44-c9cec4effcfe",
   "metadata": {},
   "source": [
    "### Méthodes magiques :\n",
    "\n",
    "Les méthodes magiques sont appelées sont des méthodes prédéfinies en Python qui sont appelées automatiquement par l'interpréteur dans certaines situations spécifiques, généralement **liées à l'utilisation d'opérateurs intégrés ou de fonctions.** \n",
    "\n",
    "`__init__(self, *args, **kwargs)` : constructeur de la classe.\n",
    "\n",
    "`__str__(self)` : définitune représentation sous forme de chaîne de caractères de l'objet. Elle est appelée lorsque la fonction `print()` est utilisée pour l'objet.\n",
    "\n",
    "`__repr__(self)` : définit une représentation sous forme de chaîne de caractères de l'objet. Elle est appelée lorsque la fonction `repr()` est utilisée pour l'objet.\n",
    "\n",
    "`__len__(self)` : définit la longueur de l'objet.\n",
    "\n",
    "`__getitem__(self, key)` : Cette méthode est utilisée pour accéder à un élément spécifique de l'objet à l'aide de la notation des crochets `([])` et est utilisée pour renvoyer l'élément correspondant à la clé spécifiée.\n",
    "\n",
    "`__setitem__(self, key, value)` : Cette méthode est utilisée pour modifier un élément spécifique de l'objet à l'aide de la notation des crochets `([])`. Elle est appelée lorsqu'un élément est affecté à un objet en utilisant l'opérateur d'indexation et est utilisée pour affecter la valeur à la clé spécifiée.\n",
    "\n",
    "`__delitem__(self, key)` : Cette méthode est utilisée pour supprimer un élément spécifique de l'objet à l'aide de la notation des crochets `([])`. Elle est appelée lorsqu'un élément est supprimé d'un objet en utilisant l'opérateur d'indexation et est utilisée pour supprimer l'élément correspondant à la clé spécifiée.\n",
    "\n",
    "`__add__(self, other)` : définit l'addition de deux objets.\n",
    "\n",
    "`__sub__(self, other)` : définit la soustraction de deux objets.\n",
    "\n",
    "`__mul__(self, other)` : définit la multiplication de deux objets.\n",
    "\n",
    "`__truediv__(self, other)` : cette méthode est appelée lorsque l'opérateur `/` est utilisé.\n",
    "\n",
    "`__floordiv__(self, other)` : cette méthode est appelée lorsque l'opérateur `//` est utilisé.\n",
    "\n",
    "`__mod__(self, other)` : cette méthode est appelée lorsque l'opérateur `%` est utilisé.\n",
    "\n",
    "`__eq__(self, other)` : teste l'égalité de deux objets.\n",
    "\n",
    "`__lt__(self, other)` : teste la comparaison `<` de deux objets.\n",
    "\n",
    "`__gt__(self, other)` : teste la comparaison `>` de deux objets.\n",
    "\n",
    "`__pow__(self, power[, modulo])` : définit l'exponentiation d'un objet (l'argument optionnel `modulo` ajoute l'opération `%`).\n",
    "\n",
    "`__contains(self, item)__` : Cette méthode est appelée lorsque l'opérateur `in` est utilisé pour vérifier si un élément est présent dans l'objet et est utilisée pour renvoyer `True` si l'élément est présent, `False` sinon.\n",
    "\n",
    "`__enter__(self)` : Cette méthode est appelée lorsque le bloc `with` est entré et est utilisée pour initialiser l'objet pour être utilisé dans le bloc `with`.\n",
    "\n",
    "`__exit__(self, exc_type, exc_value, traceback)` : Cette méthode est appelée lorsque le bloc `with` est quitté et est utilisée pour nettoyer l'objet avant sa sortie.\n",
    "\n"
   ]
  },
  {
   "cell_type": "code",
   "execution_count": null,
   "id": "5ebbe97a-c1dc-4ef4-be67-28ac9ede673d",
   "metadata": {},
   "outputs": [],
   "source": []
  }
 ],
 "metadata": {
  "kernelspec": {
   "display_name": "Python 3 (ipykernel)",
   "language": "python",
   "name": "python3"
  },
  "language_info": {
   "codemirror_mode": {
    "name": "ipython",
    "version": 3
   },
   "file_extension": ".py",
   "mimetype": "text/x-python",
   "name": "python",
   "nbconvert_exporter": "python",
   "pygments_lexer": "ipython3",
   "version": "3.11.5"
  }
 },
 "nbformat": 4,
 "nbformat_minor": 5
}
